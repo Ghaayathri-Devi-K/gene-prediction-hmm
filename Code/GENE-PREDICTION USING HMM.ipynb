{
 "cells": [
  {
   "cell_type": "markdown",
   "metadata": {},
   "source": [
    "<h1><center>GENE PREDICTION USING HIDDEN MARKOV MODEL</center></h1>"
   ]
  },
  {
   "cell_type": "code",
   "execution_count": 72,
   "metadata": {},
   "outputs": [],
   "source": [
    "from Bio import SeqIO\n",
    "import numpy as np\n",
    "import pandas as pd\n",
    "import networkx as nx\n",
    "import matplotlib.pyplot as plt"
   ]
  },
  {
   "cell_type": "code",
   "execution_count": 53,
   "metadata": {},
   "outputs": [],
   "source": [
    "def gene_predict_HMM_train(training_data):\n",
    "    \n",
    "    # Seperating intron and exon from the training data-set\n",
    "    header_list = list(training_data['HEADER'].values)\n",
    "    Sequence_list = list(training_data['SEQUENCE'].values)\n",
    "    Exon = ''\n",
    "    Intron = ''\n",
    "    cnt_exon = 0 # Number of coding genes\n",
    "    cnt_intron = 0 # Number of non-coding genes\n",
    "    for i in range(len(header_list)):\n",
    "        if 'exon' in header_list[i]:\n",
    "            Exon = Exon + Sequence_list[i]\n",
    "            cnt_exon = cnt_exon + 1\n",
    "        elif 'intron' in header_list[i]:\n",
    "            Intron = Intron + Sequence_list[i]\n",
    "            cnt_intron = cnt_intron + 1\n",
    "        else:\n",
    "            None\n",
    "       \n",
    "    # Finding the length of the exon and intron\n",
    "    exon_len = len(Exon)\n",
    "    intron_len = len(Intron)\n",
    "\n",
    "    # Nucleotides in the genome---------------------------------------------------------------------------\n",
    "    Nucleotides = ['A','G','T','C']\n",
    "\n",
    "    # EXON -----------------------------------------------------------------------------------------------\n",
    "    # Frequencies  of the nucleotides present in Exon\n",
    "    frq = []\n",
    "    for n in Nucleotides:\n",
    "        frq.append(Exon.count(n))\n",
    "\n",
    "    # Probability of the nucleotides in Exon\n",
    "    P_exon = []\n",
    "    for r in frq:\n",
    "        P_exon.append(r/exon_len)\n",
    "\n",
    "    # INTRON ----------------------------------------------------------------------------------------------\n",
    "    # Frequencies  of the nucleotides present in Intron\n",
    "    frq1 = []\n",
    "    for n1 in Nucleotides:\n",
    "        frq1.append(Intron.count(n1))\n",
    "\n",
    "    # Probability of the nucleotides in Intron\n",
    "    P_intron = []\n",
    "    for r1 in frq1:\n",
    "        P_intron.append(r1/intron_len)\n",
    "    \n",
    "    # Probability of switching from intron to exon (probability of starting of a gene)\n",
    "    P_intron_exon = cnt_exon/(exon_len+intron_len)\n",
    "    \n",
    "    # Probability of switching from exon to intron (probability of ending of a gene)\n",
    "    P_exon_intron = P_intron_exon\n",
    "    \n",
    "    # Probability of swithcing from intron to intron\n",
    "    P_intron_intron = 1 - P_intron_exon\n",
    "    \n",
    "    # Probability of swithcing from exon to exon\n",
    "    P_exon_exon = 1 - P_intron_exon\n",
    "    \n",
    "    # Hidden states - transition matrix formation   \n",
    "    genome = Exon + Intron\n",
    "    \n",
    "    # Finding the Transition probability\n",
    "    P_A_A = genome.count('AA')/len(genome)\n",
    "    P_A_T = genome.count('AT')/len(genome)\n",
    "    P_A_G = genome.count('AG')/len(genome)\n",
    "    P_A_C = genome.count('AC')/len(genome)\n",
    "\n",
    "    P_G_A = genome.count('GA')/len(genome)\n",
    "    P_G_T = genome.count('GT')/len(genome)\n",
    "    P_G_G = genome.count('GG')/len(genome)\n",
    "    P_G_C = genome.count('GC')/len(genome)\n",
    "\n",
    "    P_C_A = genome.count('CA')/len(genome)\n",
    "    P_C_T = genome.count('CT')/len(genome)\n",
    "    P_C_G = genome.count('CG')/len(genome)\n",
    "    P_C_C = genome.count('CC')/len(genome)\n",
    "\n",
    "    P_T_A = genome.count('TA')/len(genome)\n",
    "    P_T_T = genome.count('TT')/len(genome)\n",
    "    P_T_G = genome.count('TG')/len(genome)\n",
    "    P_T_C = genome.count('TC')/len(genome)\n",
    "    \n",
    "    # Graph creation\n",
    "    G1 = nx.DiGraph()\n",
    "    G1.add_nodes_from(('N','E'))\n",
    "    weighted_edges1 = [('N','E',P_A_G),('E','N',P_A_C),('E','E',P_A_T),('N','N',P_A_A)]\n",
    "    G1.add_weighted_edges_from(weighted_edges1)\n",
    "    \n",
    "    # Adjacency matrix formation\n",
    "    Transition_Matrix = nx.linalg.graphmatrix.adjacency_matrix(G1).todense()\n",
    "    \n",
    "    return Transition_Matrix, P_intron_exon, P_exon_intron, P_intron_intron, P_exon_exon, P_exon, P_intron\n"
   ]
  },
  {
   "cell_type": "code",
   "execution_count": 54,
   "metadata": {},
   "outputs": [],
   "source": [
    "# Using markov chain model computing 'pi' - By Eigen-values and Eigen-vectors\n",
    "def compute_pi(Transition_matrix):   \n",
    "    eig_val, eig_vec = np.linalg.eig(Transition_matrix)\n",
    "    PI = np.real(eig_vec[:,0])\n",
    "    return PI   "
   ]
  },
  {
   "cell_type": "code",
   "execution_count": 55,
   "metadata": {},
   "outputs": [],
   "source": [
    "def gene_predict_HMM_test(testing_data):\n",
    "    \n",
    "    genome = testing_data\n",
    "    Nucleotides = ['A','G','T','C']\n",
    "    train_data = gene_predict_HMM_train(training_data)\n",
    "    Transition_matrix, P_intron_exon, P_exon_intron, P_intron_intron, P_exon_exon, P_exon, P_intron = training[0], train_data[1], train_data[2], train_data[3], train_data[4], train_data[5], train_data[6]\n",
    "    \n",
    "    PI = compute_pi(Transition_matrix)\n",
    "    alpha1 = PI[0]\n",
    "    alpha2 = PI[1]\n",
    "    n = 2 # Number of hidden states   \n",
    "    string = ''\n",
    "    for t in range(len(genome)): \n",
    "        curr_nuc = genome[t]\n",
    "        idx = Nucleotides.index(curr_nuc)\n",
    "        for I in range(n):\n",
    "            alpha1 = alpha1*P_exon_exon*P_exon[idx] + alpha1*P_exon_intron*P_exon[idx]\n",
    "            alpha2 = alpha2*P_intron_exon*P_intron[idx] + alpha1*P_intron_intron*P_intron[idx]\n",
    "            #print(alpha1,alpha2)\n",
    "        if alpha1 > alpha2:\n",
    "            string = string + 'E'\n",
    "        else:\n",
    "            string = string + 'I' \n",
    "    predicted_seq = string\n",
    "    return predicted_seq"
   ]
  },
  {
   "cell_type": "code",
   "execution_count": 104,
   "metadata": {},
   "outputs": [],
   "source": [
    "# Training the algorithm for predicting the gene sequence\n",
    "ESPN_data = pd.read_excel('Data-sets\\\\ESPN_RefGenome.xlsx')\n",
    "ESPN_data = ESPN_data[0:27]\n",
    "training_data = ESPN_data\n",
    "#training_data"
   ]
  },
  {
   "cell_type": "code",
   "execution_count": 103,
   "metadata": {},
   "outputs": [],
   "source": [
    "# Testing the data and finding the hidden states of the sequence\n",
    "file_name = \"C:\\\\Users\\HP\\\\SEM 3 - PROJECTS\\\\19BIO201 - INTELLIGENCE OF BIOLOGICAL SYSTEMS\\\\Data-sets\\\\GRCH38_Testing_sequence.fa\"\n",
    "seq_obj = SeqIO.read(file_name,'fasta')\n",
    "testing_data = str(seq_obj.seq)\n",
    "tested_data = gene_predict_HMM_test(testing_data)\n",
    "#tested_data"
   ]
  },
  {
   "cell_type": "code",
   "execution_count": 101,
   "metadata": {},
   "outputs": [],
   "source": [
    "Predcited_gene_sequence = ''\n",
    "for e in range(len(tested_data)):\n",
    "    if tested_data[e] == 'E':\n",
    "        Predcited_gene_sequence = Predcited_gene_sequence + testing_data[e]"
   ]
  },
  {
   "cell_type": "code",
   "execution_count": 102,
   "metadata": {},
   "outputs": [
    {
     "name": "stdout",
     "output_type": "stream",
     "text": [
      "Predicted_gene_sequence:\n",
      "\n",
      " AGCTACTTGGGAGGCTAAGGTGGGACGCTTGCTCGAGCACGGGAAGGGGAGGTTGCAGTGAGCCGATAACACACCACTGCACTTCCAGCCTAGGTGAGAGTGAGACCTTGTCTCAAAAAAACAAAAAGAAACATTAAATAATATCCTTAATATTGCAACTTAAGTGACAGCCCAGGATATATGAATTCCCTTGTAAGGTTTTCTTAACAAAACACCAGTCACATAAGTGCATTTTATTTTATAT\n"
     ]
    }
   ],
   "source": [
    "print('Predicted_gene_sequence:\\n\\n',Predcited_gene_sequence)"
   ]
  },
  {
   "cell_type": "code",
   "execution_count": null,
   "metadata": {},
   "outputs": [],
   "source": []
  }
 ],
 "metadata": {
  "kernelspec": {
   "display_name": "Python 3",
   "language": "python",
   "name": "python3"
  },
  "language_info": {
   "codemirror_mode": {
    "name": "ipython",
    "version": 3
   },
   "file_extension": ".py",
   "mimetype": "text/x-python",
   "name": "python",
   "nbconvert_exporter": "python",
   "pygments_lexer": "ipython3",
   "version": "3.8.5"
  }
 },
 "nbformat": 4,
 "nbformat_minor": 4
}
